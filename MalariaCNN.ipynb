{
  "cells": [
    {
      "cell_type": "code",
      "execution_count": 3,
      "metadata": {
        "id": "PaeFsKt09VgO"
      },
      "outputs": [],
      "source": [
        "import tensorflow as tf"
      ]
    },
    {
      "cell_type": "code",
      "execution_count": 3,
      "metadata": {
        "id": "_Fv66V7FIt7x"
      },
      "outputs": [],
      "source": []
    },
    {
      "cell_type": "code",
      "execution_count": 4,
      "metadata": {
        "colab": {
          "base_uri": "https://localhost:8080/"
        },
        "id": "JfBpA6XzTaqu",
        "outputId": "fe04758d-8c50-44c6-e28d-696af90723a4"
      },
      "outputs": [
        {
          "output_type": "stream",
          "name": "stdout",
          "text": [
            "2.9.2\n"
          ]
        }
      ],
      "source": [
        "print(tf.__version__)"
      ]
    },
    {
      "cell_type": "code",
      "execution_count": 5,
      "metadata": {
        "colab": {
          "base_uri": "https://localhost:8080/"
        },
        "id": "aKAdIBAaTgRO",
        "outputId": "a8eea79c-577e-49d8-885b-dda6df3289c8"
      },
      "outputs": [
        {
          "output_type": "stream",
          "name": "stdout",
          "text": [
            "Drive already mounted at /content/gdrive; to attempt to forcibly remount, call drive.mount(\"/content/gdrive\", force_remount=True).\n"
          ]
        }
      ],
      "source": [
        "from google.colab import drive\n",
        "drive.mount('/content/gdrive')"
      ]
    },
    {
      "cell_type": "code",
      "execution_count": 6,
      "metadata": {
        "colab": {
          "base_uri": "https://localhost:8080/"
        },
        "id": "2ruWeKZ-T1z5",
        "outputId": "abd3bcf5-cece-4016-e02a-6f239569bf18"
      },
      "outputs": [
        {
          "output_type": "stream",
          "name": "stdout",
          "text": [
            "/content/gdrive/MyDrive/Colab Notebooks/malaria_dataset\n"
          ]
        }
      ],
      "source": [
        "%cd /content/gdrive/MyDrive/Colab Notebooks/malaria_dataset"
      ]
    },
    {
      "cell_type": "code",
      "execution_count": 7,
      "metadata": {
        "colab": {
          "base_uri": "https://localhost:8080/"
        },
        "id": "t54ELRiufLfq",
        "outputId": "225b366b-b6cd-456d-e124-824741e23bad"
      },
      "outputs": [
        {
          "output_type": "stream",
          "name": "stdout",
          "text": [
            "/content/gdrive/MyDrive/Colab Notebooks/malaria_dataset\n"
          ]
        }
      ],
      "source": [
        "!pwd"
      ]
    },
    {
      "cell_type": "code",
      "execution_count": 8,
      "metadata": {
        "id": "BqZI-F66fmF5"
      },
      "outputs": [],
      "source": [
        "# from google.colab import files\n",
        "# files.upload()"
      ]
    },
    {
      "cell_type": "code",
      "execution_count": 9,
      "metadata": {
        "id": "PYIglOSsfp2l"
      },
      "outputs": [],
      "source": [
        "# !mkdir -p ~/.kaggle\n",
        "# !cp kaggle.json ~/.kaggle/\n",
        "# !chmod 600 ~/.kaggle/kaggle.json\n",
        "# !rm kaggle.json"
      ]
    },
    {
      "cell_type": "code",
      "execution_count": 10,
      "metadata": {
        "colab": {
          "base_uri": "https://localhost:8080/"
        },
        "id": "h49os_aVfxO9",
        "outputId": "fa5e85f6-6226-4e58-94c0-517096c5a1c1"
      },
      "outputs": [
        {
          "output_type": "stream",
          "name": "stdout",
          "text": [
            "/content/gdrive/MyDrive/Colab Notebooks/malaria_dataset\n"
          ]
        }
      ],
      "source": [
        "!pwd"
      ]
    },
    {
      "cell_type": "code",
      "execution_count": 11,
      "metadata": {
        "id": "IVDlrDTgmNpp"
      },
      "outputs": [],
      "source": [
        "# !kaggle datasets download -d iarunava/cell-images-for-detecting-malaria"
      ]
    },
    {
      "cell_type": "code",
      "execution_count": 12,
      "metadata": {
        "id": "MtEIXgMTmQ0Z"
      },
      "outputs": [],
      "source": [
        "# !unzip \"/content/gdrive/MyDrive/Colab Notebooks/malaria_dataset/cell-images-for-detecting-malaria.zip\""
      ]
    },
    {
      "cell_type": "code",
      "execution_count": 13,
      "metadata": {
        "id": "KgKFsEL1mkBV"
      },
      "outputs": [],
      "source": [
        "import os\n",
        "import numpy as np\n",
        "import pandas as pd\n",
        "import seaborn as sns\n",
        "import matplotlib.pyplot as plt\n",
        "import matplotlib.image as mpimg"
      ]
    },
    {
      "cell_type": "code",
      "execution_count": 14,
      "metadata": {
        "id": "UW6Pran2qVXL"
      },
      "outputs": [],
      "source": [
        "np.random.seed(101)"
      ]
    },
    {
      "cell_type": "code",
      "execution_count": 15,
      "metadata": {
        "colab": {
          "base_uri": "https://localhost:8080/"
        },
        "id": "9ejuB8_Uqho6",
        "outputId": "e9b0a812-6cbc-4c7c-d807-9228fb238160"
      },
      "outputs": [
        {
          "output_type": "stream",
          "name": "stdout",
          "text": [
            "/content/gdrive/MyDrive/Colab Notebooks/malaria_dataset\n"
          ]
        }
      ],
      "source": [
        "!pwd"
      ]
    },
    {
      "cell_type": "code",
      "execution_count": 16,
      "metadata": {
        "id": "zGSUp4m6qsJd"
      },
      "outputs": [],
      "source": [
        "path_parasitized = '/content/gdrive/MyDrive/Colab Notebooks/malaria_dataset/cell_images/Parasitized'\n",
        "path_uninfected = '/content/gdrive/MyDrive/Colab Notebooks/malaria_dataset/cell_images/Uninfected'"
      ]
    },
    {
      "cell_type": "markdown",
      "metadata": {
        "id": "v-4vSZ2yrBy9"
      },
      "source": [
        "### **Creating the Dataset from the given images of the current directory**"
      ]
    },
    {
      "cell_type": "code",
      "execution_count": 17,
      "metadata": {
        "id": "eUjgnl8Xq2yL"
      },
      "outputs": [],
      "source": [
        "# dataset = []\n",
        "# label = []"
      ]
    },
    {
      "cell_type": "code",
      "execution_count": 18,
      "metadata": {
        "id": "h39PTJPUrARn"
      },
      "outputs": [],
      "source": [
        "# for i, image_name in enumerate(os.listdir(path_parasitized)):\n",
        "#   if(image_name.split('.')[1] == 'png'):\n",
        "#     image = mpimg.imread(path_parasitized+\"/\"+image_name)\n",
        "#     dataset.append(image)\n",
        "#   break\n",
        "\n",
        "# print(dataset)\n",
        "# len(dataset)"
      ]
    },
    {
      "cell_type": "code",
      "execution_count": 19,
      "metadata": {
        "colab": {
          "base_uri": "https://localhost:8080/"
        },
        "id": "-WDLIk1MsQ_b",
        "outputId": "430e6b16-b56a-41ee-a8e7-b4e2375a9d70"
      },
      "outputs": [
        {
          "output_type": "stream",
          "name": "stdout",
          "text": [
            "Looking in indexes: https://pypi.org/simple, https://us-python.pkg.dev/colab-wheels/public/simple/\n",
            "Requirement already satisfied: split-folders in /usr/local/lib/python3.8/dist-packages (0.5.1)\n"
          ]
        }
      ],
      "source": [
        "!pip install split-folders"
      ]
    },
    {
      "cell_type": "code",
      "execution_count": 20,
      "metadata": {
        "id": "cXcyUSd5fN0Q"
      },
      "outputs": [],
      "source": [
        "input_folder_path = '/content/gdrive/MyDrive/Colab Notebooks/malaria_dataset/cell_images'\n",
        "output_folder_path = '/content/gdrive/MyDrive/Colab Notebooks/malaria_dataset/malaria_segregated_dataset'"
      ]
    },
    {
      "cell_type": "markdown",
      "metadata": {
        "id": "ERmi49pJzog5"
      },
      "source": [
        "### **Dividing the present dataset into Train, Test and Validation directories**"
      ]
    },
    {
      "cell_type": "code",
      "execution_count": 21,
      "metadata": {
        "id": "FDaR5-2LfC9F"
      },
      "outputs": [],
      "source": [
        "import splitfolders\n",
        "\n",
        "# splitfolders.ratio(input_folder_path, output=output_folder_path,\n",
        "#     seed=1337, ratio=(.8, .1, .1), group_prefix=None, move=False)"
      ]
    },
    {
      "cell_type": "code",
      "execution_count": 22,
      "metadata": {
        "colab": {
          "base_uri": "https://localhost:8080/"
        },
        "id": "k8Ja4yCggRaV",
        "outputId": "ef192aec-9b28-4638-e10b-3549d4135736"
      },
      "outputs": [
        {
          "output_type": "stream",
          "name": "stdout",
          "text": [
            "/content/gdrive/MyDrive/Colab Notebooks/malaria_dataset\n"
          ]
        }
      ],
      "source": [
        "!pwd"
      ]
    },
    {
      "cell_type": "code",
      "execution_count": 23,
      "metadata": {
        "colab": {
          "base_uri": "https://localhost:8080/"
        },
        "id": "d8kc3pMurUoI",
        "outputId": "017ac9b1-13ec-4813-a3f4-818afb43cf54"
      },
      "outputs": [
        {
          "output_type": "stream",
          "name": "stdout",
          "text": [
            "/content/gdrive/MyDrive/Colab Notebooks/malaria_dataset/malaria_segregated_dataset\n"
          ]
        }
      ],
      "source": [
        "%cd '/content/gdrive/MyDrive/Colab Notebooks/malaria_dataset/malaria_segregated_dataset'"
      ]
    },
    {
      "cell_type": "code",
      "execution_count": 24,
      "metadata": {
        "colab": {
          "base_uri": "https://localhost:8080/"
        },
        "id": "vi9EJJ6ZrYS6",
        "outputId": "658d468f-7581-46b7-c9f4-b29924fc2128"
      },
      "outputs": [
        {
          "output_type": "stream",
          "name": "stdout",
          "text": [
            "/content/gdrive/MyDrive/Colab Notebooks/malaria_dataset/malaria_segregated_dataset\n"
          ]
        }
      ],
      "source": [
        "!pwd"
      ]
    },
    {
      "cell_type": "code",
      "execution_count": 25,
      "metadata": {
        "colab": {
          "base_uri": "https://localhost:8080/"
        },
        "id": "CYPwAlMPrZhU",
        "outputId": "5da34fee-7b44-4727-b2b4-f8b1205edf02"
      },
      "outputs": [
        {
          "output_type": "stream",
          "name": "stdout",
          "text": [
            "There are 3 directories and 7 images in 82.\n",
            "There are 2 directories and 0 images in 88.\n",
            "There are 0 directories and 11024 images in 100.\n",
            "There are 0 directories and 11024 images in 99.\n",
            "There are 2 directories and 0 images in 86.\n",
            "There are 0 directories and 1378 images in 98.\n",
            "There are 0 directories and 1377 images in 97.\n",
            "There are 2 directories and 0 images in 87.\n",
            "There are 0 directories and 1378 images in 99.\n",
            "There are 0 directories and 1378 images in 98.\n"
          ]
        }
      ],
      "source": [
        "for dirpath, dirnames, filenames in os.walk('/content/gdrive/MyDrive/Colab Notebooks/malaria_dataset/malaria_segregated_dataset'):\n",
        "  print(f'There are {len(dirnames)} directories and {len(filenames)} images in {len(dirpath)}.')"
      ]
    },
    {
      "cell_type": "code",
      "execution_count": 26,
      "metadata": {
        "id": "ld1EEEF2sQC0"
      },
      "outputs": [],
      "source": [
        "## From above information we can see that we have 11024 images in train set and 1378\n",
        "# images in test and validation set respectively"
      ]
    },
    {
      "cell_type": "markdown",
      "metadata": {
        "id": "eEw4rnaPtLWH"
      },
      "source": [
        "## **Get a complete list of no. of items in the respective directories**"
      ]
    },
    {
      "cell_type": "code",
      "execution_count": 27,
      "metadata": {
        "colab": {
          "base_uri": "https://localhost:8080/"
        },
        "id": "qj803rx0szrI",
        "outputId": "68107539-ff7b-468a-a706-d43a5da197de"
      },
      "outputs": [
        {
          "output_type": "execute_result",
          "data": {
            "text/plain": [
              "11024"
            ]
          },
          "metadata": {},
          "execution_count": 27
        }
      ],
      "source": [
        "# No.of images of uninfected cells in train set\n",
        "len(os.listdir('/content/gdrive/MyDrive/Colab Notebooks/malaria_dataset/malaria_segregated_dataset/train/Uninfected'))"
      ]
    },
    {
      "cell_type": "code",
      "execution_count": 28,
      "metadata": {
        "colab": {
          "base_uri": "https://localhost:8080/"
        },
        "id": "hDk1VPA3tfCN",
        "outputId": "5e4e01c8-fbd2-4dd3-8ce4-b16f4a12edf9"
      },
      "outputs": [
        {
          "output_type": "execute_result",
          "data": {
            "text/plain": [
              "11024"
            ]
          },
          "metadata": {},
          "execution_count": 28
        }
      ],
      "source": [
        "# No.of images of Parasitized cells in train set\n",
        "len(os.listdir('/content/gdrive/MyDrive/Colab Notebooks/malaria_dataset/malaria_segregated_dataset/train/Uninfected'))"
      ]
    },
    {
      "cell_type": "code",
      "execution_count": 29,
      "metadata": {
        "colab": {
          "base_uri": "https://localhost:8080/"
        },
        "id": "XLrfbOzXti-m",
        "outputId": "58e58f3c-8589-47eb-c034-c82518563d7c"
      },
      "outputs": [
        {
          "output_type": "execute_result",
          "data": {
            "text/plain": [
              "1378"
            ]
          },
          "metadata": {},
          "execution_count": 29
        }
      ],
      "source": [
        "# No.of images of uninfected cells in test set\n",
        "len(os.listdir('/content/gdrive/MyDrive/Colab Notebooks/malaria_dataset/malaria_segregated_dataset/test/Uninfected'))"
      ]
    },
    {
      "cell_type": "code",
      "execution_count": 30,
      "metadata": {
        "colab": {
          "base_uri": "https://localhost:8080/"
        },
        "id": "wwkCfGiNtqBc",
        "outputId": "2b3e88ec-eff4-46bf-ecb4-49bf1b1e27db"
      },
      "outputs": [
        {
          "output_type": "execute_result",
          "data": {
            "text/plain": [
              "1378"
            ]
          },
          "metadata": {},
          "execution_count": 30
        }
      ],
      "source": [
        "# No.of images of Parasitized cells in test set\n",
        "len(os.listdir('/content/gdrive/MyDrive/Colab Notebooks/malaria_dataset/malaria_segregated_dataset/test/Parasitized'))"
      ]
    },
    {
      "cell_type": "markdown",
      "metadata": {
        "id": "7lnC2dTtt5T1"
      },
      "source": [
        "##**Getting the class names programmatically**"
      ]
    },
    {
      "cell_type": "code",
      "execution_count": 31,
      "metadata": {
        "colab": {
          "base_uri": "https://localhost:8080/"
        },
        "id": "4XgWNzJ0txgc",
        "outputId": "d54719be-1e8d-4962-9754-80cb92ebcb2f"
      },
      "outputs": [
        {
          "output_type": "stream",
          "name": "stdout",
          "text": [
            "['Parasitized' 'Uninfected']\n"
          ]
        }
      ],
      "source": [
        "import pathlib\n",
        "data_dir = pathlib.Path('/content/gdrive/MyDrive/Colab Notebooks/malaria_dataset/malaria_segregated_dataset/train')\n",
        "\n",
        "\n",
        "#Create a list of class names from the subdirectory\n",
        "class_names = np.array(sorted([item.name for item in data_dir.glob('*')]))\n",
        "print(class_names)"
      ]
    },
    {
      "cell_type": "markdown",
      "metadata": {
        "id": "OtmsjpaE0CQo"
      },
      "source": [
        "### **Visualizing the images**"
      ]
    },
    {
      "cell_type": "code",
      "execution_count": 32,
      "metadata": {
        "id": "YCXgxv-vziLw"
      },
      "outputs": [],
      "source": [
        "## Using helper function to view random images\n",
        "\n",
        "import random\n",
        "\n",
        "def view_random_image(target_dir, target_class):\n",
        "\n",
        "  #Setting up the target directory(we'll view images from here)\n",
        "  target_folder = target_dir + target_class\n",
        "\n",
        "  # Getting a random image path\n",
        "  random_image = random.sample(os.listdir(target_folder), 1)\n",
        "  print(random_image)\n",
        "\n",
        "  # Reading image and displaying using matplotlib\n",
        "  img = mpimg.imread(target_folder + \"/\" + random_image[0])\n",
        "  plt.imshow(img)\n",
        "  plt.title(target_class)\n",
        "  plt.axis('off')\n",
        "\n",
        "  print(f'Image shape: {img.shape}') # Showing the size of image\n",
        "\n",
        "  return img"
      ]
    },
    {
      "cell_type": "code",
      "execution_count": 33,
      "metadata": {
        "colab": {
          "base_uri": "https://localhost:8080/",
          "height": 299
        },
        "id": "2YDDSGyC1nGn",
        "outputId": "5a81ebe8-664d-4307-d9c8-aa4a8598541f"
      },
      "outputs": [
        {
          "output_type": "stream",
          "name": "stdout",
          "text": [
            "['C111P72ThinF_IMG_20150930_113049_cell_166.png']\n",
            "Image shape: (145, 136, 3)\n"
          ]
        },
        {
          "output_type": "display_data",
          "data": {
            "text/plain": [
              "<Figure size 432x288 with 1 Axes>"
            ],
            "image/png": "[encoded data removed]"
          },
          "metadata": {
            "needs_background": "light"
          }
        }
      ],
      "source": [
        "# Viewing random Parasitized image\n",
        "\n",
        "target_directory_for_images = '/content/gdrive/MyDrive/Colab Notebooks/malaria_dataset/malaria_segregated_dataset/train/'\n",
        "target_class_of_image = 'Parasitized'\n",
        "\n",
        "img_class1 = view_random_image(target_dir = target_directory_for_images, \n",
        "                        target_class = target_class_of_image)"
      ]
    },
    {
      "cell_type": "code",
      "execution_count": 34,
      "metadata": {
        "colab": {
          "base_uri": "https://localhost:8080/",
          "height": 299
        },
        "id": "dke2l_4w2flM",
        "outputId": "bfaa702e-60a7-4f84-b1ef-04e4b02469bb"
      },
      "outputs": [
        {
          "output_type": "stream",
          "name": "stdout",
          "text": [
            "['C61P22N_ThinF_IMG_20150818_112518_cell_9.png']\n",
            "Image shape: (118, 121, 3)\n"
          ]
        },
        {
          "output_type": "display_data",
          "data": {
            "text/plain": [
              "<Figure size 432x288 with 1 Axes>"
            ],
            "image/png": "[encoded data removed]"
          },
          "metadata": {
            "needs_background": "light"
          }
        }
      ],
      "source": [
        "# Viewing random Uninfected image\n",
        "\n",
        "target_directory_for_images = '/content/gdrive/MyDrive/Colab Notebooks/malaria_dataset/malaria_segregated_dataset/train/'\n",
        "target_class_of_image = 'Uninfected'\n",
        "\n",
        "img_class2 = view_random_image(target_dir = target_directory_for_images, \n",
        "                        target_class = target_class_of_image)"
      ]
    },
    {
      "cell_type": "code",
      "execution_count": 35,
      "metadata": {
        "colab": {
          "base_uri": "https://localhost:8080/"
        },
        "id": "f9GnNzrD2sNW",
        "outputId": "a1f41ff3-b19d-4da6-b9ab-6272278eabcf"
      },
      "outputs": [
        {
          "output_type": "execute_result",
          "data": {
            "text/plain": [
              "(145, 136, 3)"
            ]
          },
          "metadata": {},
          "execution_count": 35
        }
      ],
      "source": [
        "img_class1.shape"
      ]
    },
    {
      "cell_type": "code",
      "execution_count": 36,
      "metadata": {
        "colab": {
          "base_uri": "https://localhost:8080/"
        },
        "id": "Ecbz7gpd3Hb5",
        "outputId": "a2aa9d7d-d674-4694-e9b9-45177a73af72"
      },
      "outputs": [
        {
          "output_type": "execute_result",
          "data": {
            "text/plain": [
              "((118, 121, 3), array([[[0., 0., 0.],\n",
              "         [0., 0., 0.],\n",
              "         [0., 0., 0.],\n",
              "         ...,\n",
              "         [0., 0., 0.],\n",
              "         [0., 0., 0.],\n",
              "         [0., 0., 0.]],\n",
              " \n",
              "        [[0., 0., 0.],\n",
              "         [0., 0., 0.],\n",
              "         [0., 0., 0.],\n",
              "         ...,\n",
              "         [0., 0., 0.],\n",
              "         [0., 0., 0.],\n",
              "         [0., 0., 0.]],\n",
              " \n",
              "        [[0., 0., 0.],\n",
              "         [0., 0., 0.],\n",
              "         [0., 0., 0.],\n",
              "         ...,\n",
              "         [0., 0., 0.],\n",
              "         [0., 0., 0.],\n",
              "         [0., 0., 0.]],\n",
              " \n",
              "        ...,\n",
              " \n",
              "        [[0., 0., 0.],\n",
              "         [0., 0., 0.],\n",
              "         [0., 0., 0.],\n",
              "         ...,\n",
              "         [0., 0., 0.],\n",
              "         [0., 0., 0.],\n",
              "         [0., 0., 0.]],\n",
              " \n",
              "        [[0., 0., 0.],\n",
              "         [0., 0., 0.],\n",
              "         [0., 0., 0.],\n",
              "         ...,\n",
              "         [0., 0., 0.],\n",
              "         [0., 0., 0.],\n",
              "         [0., 0., 0.]],\n",
              " \n",
              "        [[0., 0., 0.],\n",
              "         [0., 0., 0.],\n",
              "         [0., 0., 0.],\n",
              "         ...,\n",
              "         [0., 0., 0.],\n",
              "         [0., 0., 0.],\n",
              "         [0., 0., 0.]]], dtype=float32))"
            ]
          },
          "metadata": {},
          "execution_count": 36
        }
      ],
      "source": [
        "img_class2.shape,img_class2"
      ]
    },
    {
      "cell_type": "markdown",
      "metadata": {
        "id": "Ecs4paRk45dW"
      },
      "source": [
        "### **Normalizing our data according to the mean dimension of the images present in the training folder**"
      ]
    },
    {
      "cell_type": "code",
      "execution_count": 37,
      "metadata": {
        "id": "OLg_XYbB5WId"
      },
      "outputs": [],
      "source": [
        "## Setting training, validation and testing directories\n",
        "\n",
        "train_path = '/content/gdrive/MyDrive/Colab Notebooks/malaria_dataset/malaria_segregated_dataset/train/'\n",
        "val_path = '/content/gdrive/MyDrive/Colab Notebooks/malaria_dataset/malaria_segregated_dataset/val/'\n",
        "test_path = '/content/gdrive/MyDrive/Colab Notebooks/malaria_dataset/malaria_segregated_dataset/test/'"
      ]
    },
    {
      "cell_type": "code",
      "execution_count": 38,
      "metadata": {
        "colab": {
          "base_uri": "https://localhost:8080/"
        },
        "id": "EUPHpTLJ6CM0",
        "outputId": "a1641d1c-2bf9-4734-b5c1-434aa94cc8d1"
      },
      "outputs": [
        {
          "output_type": "execute_result",
          "data": {
            "text/plain": [
              "(array(['Parasitized', 'Uninfected'], dtype='<U11'), 'Parasitized', numpy.str_)"
            ]
          },
          "metadata": {},
          "execution_count": 38
        }
      ],
      "source": [
        "class_names,class_names[0], type(class_names[0])"
      ]
    },
    {
      "cell_type": "code",
      "execution_count": 39,
      "metadata": {
        "colab": {
          "base_uri": "https://localhost:8080/"
        },
        "id": "Qudq7bHL3QSV",
        "outputId": "38eb087c-ce34-4ef7-a64b-38bc7c774ccb"
      },
      "outputs": [
        {
          "output_type": "execute_result",
          "data": {
            "text/plain": [
              "(131.6977229429375, 131.44978680939852)"
            ]
          },
          "metadata": {},
          "execution_count": 39
        }
      ],
      "source": [
        "dim1 = []\n",
        "dim2 = []\n",
        "for image_filename in os.listdir(train_path+class_names[1]):\n",
        "    \n",
        "    if(image_filename.split('.')[1] == 'png'):\n",
        "      img = mpimg.imread(train_path+class_names[1] +'/'+image_filename)\n",
        "      d1,d2,colors = img.shape\n",
        "      dim1.append(d1)\n",
        "      dim2.append(d2)\n",
        "\n",
        "\n",
        "np.mean(dim1),np.mean(dim2)"
      ]
    },
    {
      "cell_type": "code",
      "execution_count": 40,
      "metadata": {
        "colab": {
          "base_uri": "https://localhost:8080/",
          "height": 513
        },
        "id": "U6VLr6Cj7eWx",
        "outputId": "efe4576e-a1ac-4147-960d-9c8ec1d84f72"
      },
      "outputs": [
        {
          "output_type": "stream",
          "name": "stderr",
          "text": [
            "/usr/local/lib/python3.8/dist-packages/seaborn/_decorators.py:36: FutureWarning: Pass the following variables as keyword args: x, y. From version 0.12, the only valid positional argument will be `data`, and passing other arguments without an explicit keyword will result in an error or misinterpretation.\n",
            "  warnings.warn(\n"
          ]
        },
        {
          "output_type": "execute_result",
          "data": {
            "text/plain": [
              "<seaborn.axisgrid.JointGrid at 0x7f9b51eafeb0>"
            ]
          },
          "metadata": {},
          "execution_count": 40
        },
        {
          "output_type": "display_data",
          "data": {
            "text/plain": [
              "<Figure size 432x432 with 3 Axes>"
            ],
            "image/png": "[encoded data removed]"
          },
          "metadata": {
            "needs_background": "light"
          }
        }
      ],
      "source": [
        "# Visualizing the mean dimension for all the images in the train set\n",
        "\n",
        "sns.jointplot(dim1,dim2)"
      ]
    },
    {
      "cell_type": "markdown",
      "metadata": {
        "id": "Yq-nWZ-5-CkY"
      },
      "source": [
        "### **Augmenting images using image data generator**"
      ]
    },
    {
      "cell_type": "code",
      "execution_count": 41,
      "metadata": {
        "id": "j-rJQVKk-ZZB"
      },
      "outputs": [],
      "source": [
        "from tensorflow.keras.optimizers import SGD, Adam\n",
        "from tensorflow.keras.layers import Input, Dense, Flatten, Conv2D, MaxPooling2D, BatchNormalization ,Dropout\n",
        "from tensorflow.keras.models import Sequential\n",
        "from tensorflow.keras.callbacks import Callback\n",
        "from tensorflow.keras.preprocessing.image import ImageDataGenerator"
      ]
    },
    {
      "cell_type": "code",
      "execution_count": 42,
      "metadata": {
        "colab": {
          "base_uri": "https://localhost:8080/"
        },
        "id": "0ABek3NQ97QH",
        "outputId": "d6539400-a950-47fd-8480-4196492fe54b"
      },
      "outputs": [
        {
          "output_type": "stream",
          "name": "stdout",
          "text": [
            "Found 22046 images belonging to 2 classes.\n",
            "Found 2755 images belonging to 2 classes.\n"
          ]
        }
      ],
      "source": [
        "image_size = (131,131)\n",
        "\n",
        "datagen = ImageDataGenerator(\n",
        "    rotation_range=20,\n",
        "    width_shift_range=0.10, # Shift the pic width by a max of 5%\n",
        "    height_shift_range=0.10, # Shift the pic height by a max of 5%\n",
        "    rescale=1/255, # Rescale the image by normalzing it.\n",
        "    shear_range=0.1, # Shear means cutting away part of the image (max 10%)\n",
        "    zoom_range=0.1, # Zoom in by 10% max\n",
        "    horizontal_flip=True, # Allow horizontal flipping\n",
        "    fill_mode='nearest' # Fill in missing pixels with the nearest filled value\n",
        ")\n",
        "\n",
        "train_gen = datagen.flow_from_directory(\n",
        "    train_path,\n",
        "    target_size=image_size,\n",
        "    batch_size=32,\n",
        "    color_mode='rgb',\n",
        "    class_mode='binary'\n",
        ")\n",
        "\n",
        "validation_gen = datagen.flow_from_directory(\n",
        "    val_path,\n",
        "    target_size=image_size,\n",
        "    batch_size=32,\n",
        "    class_mode='binary',\n",
        "    shuffle=False,\n",
        "    color_mode='rgb'\n",
        ")"
      ]
    },
    {
      "cell_type": "code",
      "execution_count": 43,
      "metadata": {
        "colab": {
          "base_uri": "https://localhost:8080/"
        },
        "id": "8ZGvmg9f-0dr",
        "outputId": "fff29fb1-185f-4692-c7d9-f146f63e261a"
      },
      "outputs": [
        {
          "output_type": "execute_result",
          "data": {
            "text/plain": [
              "{'Parasitized': 0, 'Uninfected': 1}"
            ]
          },
          "metadata": {},
          "execution_count": 43
        }
      ],
      "source": [
        "train_gen.class_indices   #Lables"
      ]
    },
    {
      "cell_type": "code",
      "execution_count": 44,
      "metadata": {
        "colab": {
          "base_uri": "https://localhost:8080/"
        },
        "id": "hNkkPj0E-8jS",
        "outputId": "2d9167da-4bbc-4d36-90ff-e98b928aa4f1"
      },
      "outputs": [
        {
          "output_type": "execute_result",
          "data": {
            "text/plain": [
              "{'Parasitized': 0, 'Uninfected': 1}"
            ]
          },
          "metadata": {},
          "execution_count": 44
        }
      ],
      "source": [
        "validation_gen.class_indices"
      ]
    },
    {
      "cell_type": "markdown",
      "metadata": {
        "id": "ZO5Yq9Dz_nTo"
      },
      "source": [
        "#### **Defining callback for plotting losses and accuracy**"
      ]
    },
    {
      "cell_type": "code",
      "execution_count": 45,
      "metadata": {
        "id": "me0RPYmy_Cgz"
      },
      "outputs": [],
      "source": [
        "class PlotLearning(Callback):\n",
        "    def on_train_begin(self, logs={}):\n",
        "        self.i = 0\n",
        "        self.x = []\n",
        "        self.losses = []\n",
        "        self.val_losses = []\n",
        "        self.acc = []\n",
        "        self.val_acc = []\n",
        "        self.fig = plt.figure()\n",
        "        \n",
        "        self.logs = []\n",
        "        \n",
        "\n",
        "    def on_epoch_end(self, epoch, logs={}):\n",
        "        \n",
        "        self.logs.append(logs)\n",
        "        self.x.append(self.i)\n",
        "        self.losses.append(logs.get('loss'))\n",
        "        self.val_losses.append(logs.get('val_loss'))\n",
        "        self.acc.append(logs.get('accuracy'))\n",
        "        self.val_acc.append(logs.get('val_accuracy'))\n",
        "        self.i += 1\n",
        "        f, (ax1, ax2) = plt.subplots(1, 2, sharex=True)\n",
        "        \n",
        "        clear_output(wait=True)\n",
        "        \n",
        "        ax1.set_yscale('Log')\n",
        "        ax1.plot(self.x, self.losses, label=\"loss\")\n",
        "        ax1.plot(self.x, self.val_losses, label=\"val_loss\")\n",
        "        ax1.legend()\n",
        "        \n",
        "        ax2.plot(self.x, self.acc, label=\"accuracy\")\n",
        "        ax2.plot(self.x, self.val_acc, label=\"val_accuracy\")\n",
        "        ax2.legend()\n",
        "        \n",
        "        plt.show()\n",
        "        \n",
        "        \n",
        "plot = PlotLearning()"
      ]
    },
    {
      "cell_type": "markdown",
      "metadata": {
        "id": "ylLC6Woe_wrY"
      },
      "source": [
        "## **Defining the CNN model with keras functional API**"
      ]
    },
    {
      "cell_type": "code",
      "execution_count": 46,
      "metadata": {
        "id": "qEx3FaOHAtim"
      },
      "outputs": [],
      "source": [
        "from tensorflow.keras.models import Model"
      ]
    },
    {
      "cell_type": "code",
      "execution_count": 47,
      "metadata": {
        "id": "TF73fgt0_tCr"
      },
      "outputs": [],
      "source": [
        "## Implementing distributed training with multiple GPUs for faster training\n",
        "\n",
        "mirrored_strategy = tf.distribute.MirroredStrategy()\n",
        "\n",
        "with mirrored_strategy.scope():\n",
        "\n",
        "  # model = Sequential()\n",
        "\n",
        "  # model.add(Conv2D(filters=32, kernel_size=(3,3), input_shape=image_size+(3,), activation='relu'))\n",
        "  # model.add(MaxPooling2D(pool_size=(2,2)))\n",
        "\n",
        "  # model.add(Conv2D(filters=64, kernel_size=(3,3), input_shape=image_size+(3,), activation='relu'))\n",
        "  # model.add(MaxPooling2D(pool_size=(2,2)))\n",
        "\n",
        "  # model.add(Conv2D(filters=64, kernel_size=(3,3), input_shape=image_size+(3,), activation='relu'))\n",
        "  # model.add(MaxPooling2D(pool_size=(2,2)))\n",
        "\n",
        "  # model.add(Flatten())\n",
        "\n",
        "  # model.add(Dense(128, activation='relu'))\n",
        "  # model.add(Dropout(0.5))\n",
        "\n",
        "  # model.add(Dense(1, activation='sigmoid'))\n",
        "\n",
        "  i = Input(shape=image_size+(3,))\n",
        "\n",
        "  x = Conv2D(32, kernel_size=(3,3), activation='relu')(i)\n",
        "  x = MaxPooling2D(pool_size=(2,2))(x)\n",
        "\n",
        "  x = Conv2D(64, kernel_size=(3,3), activation='relu')(x)\n",
        "  x = MaxPooling2D(pool_size=(2,2))(x)\n",
        "\n",
        "  x = Conv2D(64, kernel_size=(3,3), activation='relu')(x)\n",
        "  x = MaxPooling2D(pool_size=(2,2))(x)\n",
        "\n",
        "  x = Flatten()(x)\n",
        "\n",
        "  x = Dense(128, activation = 'relu')(x)\n",
        "  x = Dropout(0.5)(x)\n",
        "\n",
        "  x = Dense(1, activation='sigmoid')(x)\n",
        "\n",
        "  model = Model(i,x)\n"
      ]
    },
    {
      "cell_type": "code",
      "execution_count": 48,
      "metadata": {
        "colab": {
          "base_uri": "https://localhost:8080/"
        },
        "id": "_opxYSiVAngv",
        "outputId": "6059aa72-7431-4259-998c-6b7eb2eaa912"
      },
      "outputs": [
        {
          "output_type": "stream",
          "name": "stdout",
          "text": [
            "Model: \"model\"\n",
            "_________________________________________________________________\n",
            " Layer (type)                Output Shape              Param #   \n",
            "=================================================================\n",
            " input_1 (InputLayer)        [(None, 131, 131, 3)]     0         \n",
            "                                                                 \n",
            " conv2d (Conv2D)             (None, 129, 129, 32)      896       \n",
            "                                                                 \n",
            " max_pooling2d (MaxPooling2D  (None, 64, 64, 32)       0         \n",
            " )                                                               \n",
            "                                                                 \n",
            " conv2d_1 (Conv2D)           (None, 62, 62, 64)        18496     \n",
            "                                                                 \n",
            " max_pooling2d_1 (MaxPooling  (None, 31, 31, 64)       0         \n",
            " 2D)                                                             \n",
            "                                                                 \n",
            " conv2d_2 (Conv2D)           (None, 29, 29, 64)        36928     \n",
            "                                                                 \n",
            " max_pooling2d_2 (MaxPooling  (None, 14, 14, 64)       0         \n",
            " 2D)                                                             \n",
            "                                                                 \n",
            " flatten (Flatten)           (None, 12544)             0         \n",
            "                                                                 \n",
            " dense (Dense)               (None, 128)               1605760   \n",
            "                                                                 \n",
            " dropout (Dropout)           (None, 128)               0         \n",
            "                                                                 \n",
            " dense_1 (Dense)             (None, 1)                 129       \n",
            "                                                                 \n",
            "=================================================================\n",
            "Total params: 1,662,209\n",
            "Trainable params: 1,662,209\n",
            "Non-trainable params: 0\n",
            "_________________________________________________________________\n"
          ]
        }
      ],
      "source": [
        "# Compiling and Summarizing the Model\n",
        "\n",
        "model.compile(optimizer = 'adam',\n",
        "              loss = 'binary_crossentropy',\n",
        "              metrics=['accuracy'])\n",
        "\n",
        "model.summary()"
      ]
    },
    {
      "cell_type": "code",
      "execution_count": 49,
      "metadata": {
        "colab": {
          "base_uri": "https://localhost:8080/"
        },
        "id": "xQN_Q5tgBcta",
        "outputId": "ffd7be3a-0f70-41ee-fdce-156c0928a566"
      },
      "outputs": [
        {
          "output_type": "stream",
          "name": "stdout",
          "text": [
            "Epoch 1/20\n",
            "689/689 [==============================] - 1323s 2s/step - loss: 0.4199 - accuracy: 0.8213 - val_loss: 0.2372 - val_accuracy: 0.9209\n",
            "Epoch 2/20\n",
            "689/689 [==============================] - 151s 219ms/step - loss: 0.1993 - accuracy: 0.9342 - val_loss: 0.1818 - val_accuracy: 0.9383\n",
            "Epoch 3/20\n",
            "689/689 [==============================] - 150s 217ms/step - loss: 0.1813 - accuracy: 0.9424 - val_loss: 0.1615 - val_accuracy: 0.9452\n",
            "Epoch 4/20\n",
            "689/689 [==============================] - 149s 216ms/step - loss: 0.1693 - accuracy: 0.9471 - val_loss: 0.1548 - val_accuracy: 0.9485\n",
            "Epoch 5/20\n",
            "689/689 [==============================] - 151s 219ms/step - loss: 0.1631 - accuracy: 0.9495 - val_loss: 0.1506 - val_accuracy: 0.9481\n",
            "Epoch 6/20\n",
            "689/689 [==============================] - 150s 217ms/step - loss: 0.1615 - accuracy: 0.9492 - val_loss: 0.1552 - val_accuracy: 0.9456\n",
            "Epoch 7/20\n",
            "689/689 [==============================] - 149s 216ms/step - loss: 0.1554 - accuracy: 0.9511 - val_loss: 0.1625 - val_accuracy: 0.9463\n",
            "Epoch 8/20\n",
            "689/689 [==============================] - 150s 217ms/step - loss: 0.1533 - accuracy: 0.9510 - val_loss: 0.1420 - val_accuracy: 0.9514\n",
            "Epoch 9/20\n",
            "689/689 [==============================] - 154s 223ms/step - loss: 0.1582 - accuracy: 0.9497 - val_loss: 0.1422 - val_accuracy: 0.9543\n",
            "Epoch 10/20\n",
            "689/689 [==============================] - 149s 216ms/step - loss: 0.1477 - accuracy: 0.9536 - val_loss: 0.1464 - val_accuracy: 0.9495\n",
            "Epoch 11/20\n",
            "689/689 [==============================] - 149s 217ms/step - loss: 0.1495 - accuracy: 0.9510 - val_loss: 0.1425 - val_accuracy: 0.9474\n",
            "Epoch 12/20\n",
            "689/689 [==============================] - 148s 215ms/step - loss: 0.1486 - accuracy: 0.9508 - val_loss: 0.1545 - val_accuracy: 0.9477\n",
            "Epoch 13/20\n",
            "689/689 [==============================] - 149s 217ms/step - loss: 0.1442 - accuracy: 0.9537 - val_loss: 0.1441 - val_accuracy: 0.9488\n",
            "Epoch 14/20\n",
            "689/689 [==============================] - 148s 214ms/step - loss: 0.1466 - accuracy: 0.9523 - val_loss: 0.1562 - val_accuracy: 0.9463\n",
            "Epoch 15/20\n",
            "689/689 [==============================] - 147s 214ms/step - loss: 0.1435 - accuracy: 0.9529 - val_loss: 0.1491 - val_accuracy: 0.9477\n",
            "Epoch 16/20\n",
            "689/689 [==============================] - 149s 216ms/step - loss: 0.1452 - accuracy: 0.9529 - val_loss: 0.1463 - val_accuracy: 0.9488\n",
            "Epoch 17/20\n",
            "689/689 [==============================] - 148s 215ms/step - loss: 0.1440 - accuracy: 0.9524 - val_loss: 0.1384 - val_accuracy: 0.9510\n",
            "Epoch 18/20\n",
            "689/689 [==============================] - 148s 215ms/step - loss: 0.1410 - accuracy: 0.9533 - val_loss: 0.1391 - val_accuracy: 0.9572\n",
            "Epoch 19/20\n",
            "689/689 [==============================] - 148s 215ms/step - loss: 0.1380 - accuracy: 0.9533 - val_loss: 0.1374 - val_accuracy: 0.9528\n",
            "Epoch 20/20\n",
            "689/689 [==============================] - 148s 215ms/step - loss: 0.1402 - accuracy: 0.9529 - val_loss: 0.1416 - val_accuracy: 0.9506\n"
          ]
        }
      ],
      "source": [
        "## Fitting the model\n",
        "\n",
        "model_history = model.fit(train_gen, epochs=20, validation_data=validation_gen)"
      ]
    },
    {
      "cell_type": "code",
      "execution_count": 50,
      "metadata": {
        "id": "ITgqRlqtBkZS",
        "colab": {
          "base_uri": "https://localhost:8080/",
          "height": 282
        },
        "outputId": "f1087aef-360c-4f7b-ee62-62b30f86518e"
      },
      "outputs": [
        {
          "output_type": "execute_result",
          "data": {
            "text/plain": [
              "<matplotlib.legend.Legend at 0x7f9b4f962fd0>"
            ]
          },
          "metadata": {},
          "execution_count": 50
        },
        {
          "output_type": "display_data",
          "data": {
            "text/plain": [
              "<Figure size 432x288 with 1 Axes>"
            ],
            "image/png": "[encoded data removed]"
          },
          "metadata": {
            "needs_background": "light"
          }
        }
      ],
      "source": [
        "#Plotting loss per iteration\n",
        "\n",
        "plt.plot(model_history.history['loss'],label='loss')\n",
        "plt.plot(model_history.history['val_loss'], label = 'validation_loss')\n",
        "plt.legend()"
      ]
    },
    {
      "cell_type": "code",
      "source": [
        "#Plotting accuracy per iteration\n",
        "\n",
        "plt.plot(model_history.history['accuracy'],label='accuracy')\n",
        "plt.plot(model_history.history['val_accuracy'], label = 'validation_accuracy')\n",
        "plt.legend()"
      ],
      "metadata": {
        "colab": {
          "base_uri": "https://localhost:8080/",
          "height": 282
        },
        "id": "Xo5craPn1Ud1",
        "outputId": "000ee894-571f-4366-b875-e7fec0be1041"
      },
      "execution_count": 51,
      "outputs": [
        {
          "output_type": "execute_result",
          "data": {
            "text/plain": [
              "<matplotlib.legend.Legend at 0x7f9b4e241250>"
            ]
          },
          "metadata": {},
          "execution_count": 51
        },
        {
          "output_type": "display_data",
          "data": {
            "text/plain": [
              "<Figure size 432x288 with 1 Axes>"
            ],
            "image/png": "[encoded data removed]"
          },
          "metadata": {
            "needs_background": "light"
          }
        }
      ]
    },
    {
      "cell_type": "code",
      "source": [
        "## Evaluating our model\n",
        "\n",
        "print(model.evaluate(validation_gen))"
      ],
      "metadata": {
        "colab": {
          "base_uri": "https://localhost:8080/"
        },
        "id": "W6nI3EcU1mzE",
        "outputId": "d922e197-cc00-4f09-f4f3-b7ebdbfa1ebd"
      },
      "execution_count": 52,
      "outputs": [
        {
          "output_type": "stream",
          "name": "stdout",
          "text": [
            "87/87 [==============================] - 16s 184ms/step - loss: 0.1349 - accuracy: 0.9539\n",
            "[0.13492046296596527, 0.953902006149292]\n"
          ]
        }
      ]
    },
    {
      "cell_type": "code",
      "source": [
        "model.metrics, model.metrics_names"
      ],
      "metadata": {
        "colab": {
          "base_uri": "https://localhost:8080/"
        },
        "id": "gAJnixrJ12xm",
        "outputId": "b52a48a8-2f99-43b4-89a1-a8b1483887b4"
      },
      "execution_count": 53,
      "outputs": [
        {
          "output_type": "execute_result",
          "data": {
            "text/plain": [
              "([<keras.metrics.base_metric.Mean at 0x7f9b4f773ca0>,\n",
              "  <keras.metrics.base_metric.MeanMetricWrapper at 0x7f9b4e287eb0>],\n",
              " ['loss', 'accuracy'])"
            ]
          },
          "metadata": {},
          "execution_count": 53
        }
      ]
    },
    {
      "cell_type": "markdown",
      "source": [
        "## Testing and predicting custom images"
      ],
      "metadata": {
        "id": "oh-f6msR2tJO"
      }
    },
    {
      "cell_type": "code",
      "source": [
        "# !pwd\n",
        "# !cd .."
      ],
      "metadata": {
        "id": "Vi3_oB7W9rRQ"
      },
      "execution_count": 54,
      "outputs": []
    },
    {
      "cell_type": "code",
      "source": [
        "%cd /content/gdrive/MyDrive/Colab Notebooks/\n",
        "!pwd"
      ],
      "metadata": {
        "colab": {
          "base_uri": "https://localhost:8080/"
        },
        "id": "ZIF9bL74-RT_",
        "outputId": "cc867c36-f819-44ba-ae45-7621b319cf55"
      },
      "execution_count": 55,
      "outputs": [
        {
          "output_type": "stream",
          "name": "stdout",
          "text": [
            "/content/gdrive/MyDrive/Colab Notebooks\n",
            "/content/gdrive/MyDrive/Colab Notebooks\n"
          ]
        }
      ]
    },
    {
      "cell_type": "code",
      "source": [
        "\n",
        "import numpy as np\n",
        "\n",
        "from google.colab import files\n",
        "from tensorflow.keras.preprocessing import image\n",
        "\n",
        "uploaded=files.upload()\n",
        "\n",
        "plt.figure(figsize=(10, 10))\n",
        "\n",
        "i=1\n",
        "\n",
        "for fn in uploaded.keys():\n",
        " \n",
        "  # predicting images\n",
        "  path='/content/gdrive/MyDrive/Colab Notebooks/' + fn\n",
        "  img=image.load_img(path, target_size=(131, 131))\n",
        "\n",
        "  plt.subplot(1,2,i)\n",
        "  \n",
        "  plt.imshow(img,label=fn)\n",
        "  plt.axis('off')\n",
        "\n",
        "  i+=1\n",
        "\n",
        "  x=image.img_to_array(img)\n",
        "  x=np.expand_dims(x, axis=0)\n",
        "  images = np.vstack([x])\n",
        "  \n",
        "  classes = model.predict(images, batch_size=16)\n",
        "  \n",
        "  print(classes)\n",
        "  \n",
        "  if classes[0]>0:\n",
        "    print(fn + \" is a uninfected\")\n",
        "    \n",
        "  else:\n",
        "    print(fn + \" is a parasitized\")"
      ],
      "metadata": {
        "colab": {
          "base_uri": "https://localhost:8080/",
          "height": 480
        },
        "id": "o8236E7u2HRD",
        "outputId": "19f306d3-e989-4a6e-c73d-c1646446a6ef"
      },
      "execution_count": 56,
      "outputs": [
        {
          "output_type": "display_data",
          "data": {
            "text/plain": [
              "<IPython.core.display.HTML object>"
            ],
            "text/html": [
              "\n",
              "     <input type=\"file\" id=\"files-0fb7e980-701f-4f16-ab27-51cf580fb8eb\" name=\"files[]\" multiple disabled\n",
              "        style=\"border:none\" />\n",
              "     <output id=\"result-0fb7e980-701f-4f16-ab27-51cf580fb8eb\">\n",
              "      Upload widget is only available when the cell has been executed in the\n",
              "      current browser session. Please rerun this cell to enable.\n",
              "      </output>\n",
              "      <script>// Copyright 2017 Google LLC\n",
              "//\n",
              "// Licensed under the Apache License, Version 2.0 (the \"License\");\n",
              "// you may not use this file except in compliance with the License.\n",
              "// You may obtain a copy of the License at\n",
              "//\n",
              "//      http://www.apache.org/licenses/LICENSE-2.0\n",
              "//\n",
              "// Unless required by applicable law or agreed to in writing, software\n",
              "// distributed under the License is distributed on an \"AS IS\" BASIS,\n",
              "// WITHOUT WARRANTIES OR CONDITIONS OF ANY KIND, either express or implied.\n",
              "// See the License for the specific language governing permissions and\n",
              "// limitations under the License.\n",
              "\n",
              "/**\n",
              " * @fileoverview Helpers for google.colab Python module.\n",
              " */\n",
              "(function(scope) {\n",
              "function span(text, styleAttributes = {}) {\n",
              "  const element = document.createElement('span');\n",
              "  element.textContent = text;\n",
              "  for (const key of Object.keys(styleAttributes)) {\n",
              "    element.style[key] = styleAttributes[key];\n",
              "  }\n",
              "  return element;\n",
              "}\n",
              "\n",
              "// Max number of bytes which will be uploaded at a time.\n",
              "const MAX_PAYLOAD_SIZE = 100 * 1024;\n",
              "\n",
              "function _uploadFiles(inputId, outputId) {\n",
              "  const steps = uploadFilesStep(inputId, outputId);\n",
              "  const outputElement = document.getElementById(outputId);\n",
              "  // Cache steps on the outputElement to make it available for the next call\n",
              "  // to uploadFilesContinue from Python.\n",
              "  outputElement.steps = steps;\n",
              "\n",
              "  return _uploadFilesContinue(outputId);\n",
              "}\n",
              "\n",
              "// This is roughly an async generator (not supported in the browser yet),\n",
              "// where there are multiple asynchronous steps and the Python side is going\n",
              "// to poll for completion of each step.\n",
              "// This uses a Promise to block the python side on completion of each step,\n",
              "// then passes the result of the previous step as the input to the next step.\n",
              "function _uploadFilesContinue(outputId) {\n",
              "  const outputElement = document.getElementById(outputId);\n",
              "  const steps = outputElement.steps;\n",
              "\n",
              "  const next = steps.next(outputElement.lastPromiseValue);\n",
              "  return Promise.resolve(next.value.promise).then((value) => {\n",
              "    // Cache the last promise value to make it available to the next\n",
              "    // step of the generator.\n",
              "    outputElement.lastPromiseValue = value;\n",
              "    return next.value.response;\n",
              "  });\n",
              "}\n",
              "\n",
              "/**\n",
              " * Generator function which is called between each async step of the upload\n",
              " * process.\n",
              " * @param {string} inputId Element ID of the input file picker element.\n",
              " * @param {string} outputId Element ID of the output display.\n",
              " * @return {!Iterable<!Object>} Iterable of next steps.\n",
              " */\n",
              "function* uploadFilesStep(inputId, outputId) {\n",
              "  const inputElement = document.getElementById(inputId);\n",
              "  inputElement.disabled = false;\n",
              "\n",
              "  const outputElement = document.getElementById(outputId);\n",
              "  outputElement.innerHTML = '';\n",
              "\n",
              "  const pickedPromise = new Promise((resolve) => {\n",
              "    inputElement.addEventListener('change', (e) => {\n",
              "      resolve(e.target.files);\n",
              "    });\n",
              "  });\n",
              "\n",
              "  const cancel = document.createElement('button');\n",
              "  inputElement.parentElement.appendChild(cancel);\n",
              "  cancel.textContent = 'Cancel upload';\n",
              "  const cancelPromise = new Promise((resolve) => {\n",
              "    cancel.onclick = () => {\n",
              "      resolve(null);\n",
              "    };\n",
              "  });\n",
              "\n",
              "  // Wait for the user to pick the files.\n",
              "  const files = yield {\n",
              "    promise: Promise.race([pickedPromise, cancelPromise]),\n",
              "    response: {\n",
              "      action: 'starting',\n",
              "    }\n",
              "  };\n",
              "\n",
              "  cancel.remove();\n",
              "\n",
              "  // Disable the input element since further picks are not allowed.\n",
              "  inputElement.disabled = true;\n",
              "\n",
              "  if (!files) {\n",
              "    return {\n",
              "      response: {\n",
              "        action: 'complete',\n",
              "      }\n",
              "    };\n",
              "  }\n",
              "\n",
              "  for (const file of files) {\n",
              "    const li = document.createElement('li');\n",
              "    li.append(span(file.name, {fontWeight: 'bold'}));\n",
              "    li.append(span(\n",
              "        `(${file.type || 'n/a'}) - ${file.size} bytes, ` +\n",
              "        `last modified: ${\n",
              "            file.lastModifiedDate ? file.lastModifiedDate.toLocaleDateString() :\n",
              "                                    'n/a'} - `));\n",
              "    const percent = span('0% done');\n",
              "    li.appendChild(percent);\n",
              "\n",
              "    outputElement.appendChild(li);\n",
              "\n",
              "    const fileDataPromise = new Promise((resolve) => {\n",
              "      const reader = new FileReader();\n",
              "      reader.onload = (e) => {\n",
              "        resolve(e.target.result);\n",
              "      };\n",
              "      reader.readAsArrayBuffer(file);\n",
              "    });\n",
              "    // Wait for the data to be ready.\n",
              "    let fileData = yield {\n",
              "      promise: fileDataPromise,\n",
              "      response: {\n",
              "        action: 'continue',\n",
              "      }\n",
              "    };\n",
              "\n",
              "    // Use a chunked sending to avoid message size limits. See b/62115660.\n",
              "    let position = 0;\n",
              "    do {\n",
              "      const length = Math.min(fileData.byteLength - position, MAX_PAYLOAD_SIZE);\n",
              "      const chunk = new Uint8Array(fileData, position, length);\n",
              "      position += length;\n",
              "\n",
              "      const base64 = btoa(String.fromCharCode.apply(null, chunk));\n",
              "      yield {\n",
              "        response: {\n",
              "          action: 'append',\n",
              "          file: file.name,\n",
              "          data: base64,\n",
              "        },\n",
              "      };\n",
              "\n",
              "      let percentDone = fileData.byteLength === 0 ?\n",
              "          100 :\n",
              "          Math.round((position / fileData.byteLength) * 100);\n",
              "      percent.textContent = `${percentDone}% done`;\n",
              "\n",
              "    } while (position < fileData.byteLength);\n",
              "  }\n",
              "\n",
              "  // All done.\n",
              "  yield {\n",
              "    response: {\n",
              "      action: 'complete',\n",
              "    }\n",
              "  };\n",
              "}\n",
              "\n",
              "scope.google = scope.google || {};\n",
              "scope.google.colab = scope.google.colab || {};\n",
              "scope.google.colab._files = {\n",
              "  _uploadFiles,\n",
              "  _uploadFilesContinue,\n",
              "};\n",
              "})(self);\n",
              "</script> "
            ]
          },
          "metadata": {}
        },
        {
          "output_type": "stream",
          "name": "stdout",
          "text": [
            "Saving C184P145ThinF_IMG_20151203_104153_cell_138.png to C184P145ThinF_IMG_20151203_104153_cell_138.png\n",
            "Saving C241NThinF_IMG_20151207_124358_cell_144.png to C241NThinF_IMG_20151207_124358_cell_144.png\n",
            "1/1 [==============================] - 1s 1s/step\n",
            "[[0.]]\n",
            "C184P145ThinF_IMG_20151203_104153_cell_138.png is a parasitized\n",
            "1/1 [==============================] - 0s 56ms/step\n",
            "[[1.]]\n",
            "C241NThinF_IMG_20151207_124358_cell_144.png is a uninfected\n"
          ]
        },
        {
          "output_type": "display_data",
          "data": {
            "text/plain": [
              "<Figure size 720x720 with 2 Axes>"
            ],
            "image/png": "[encoded data removed]"
          },
          "metadata": {
            "needs_background": "light"
          }
        }
      ]
    },
    {
      "cell_type": "code",
      "source": [],
      "metadata": {
        "id": "yQ8FruQi669O"
      },
      "execution_count": 56,
      "outputs": []
    }
  ],
  "metadata": {
    "accelerator": "GPU",
    "colab": {
      "provenance": []
    },
    "gpuClass": "standard",
    "kernelspec": {
      "display_name": "Python 3",
      "name": "python3"
    },
    "language_info": {
      "name": "python"
    }
  },
  "nbformat": 4,
  "nbformat_minor": 0
}